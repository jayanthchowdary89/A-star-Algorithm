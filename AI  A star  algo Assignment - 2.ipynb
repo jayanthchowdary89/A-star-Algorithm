{
 "cells": [
  {
   "cell_type": "markdown",
   "id": "a6788cf3",
   "metadata": {},
   "source": [
    "## N.Jayanth Chowdary"
   ]
  },
  {
   "cell_type": "markdown",
   "id": "54fd8f2b",
   "metadata": {},
   "source": [
    "## 411956\n"
   ]
  },
  {
   "cell_type": "code",
   "execution_count": 1,
   "id": "e4ab2416",
   "metadata": {},
   "outputs": [],
   "source": [
    "    def get_neighbouring_nodes(v):\n",
    "        if v in Graph_nodes:\n",
    "            return Graph_nodes[v] \n",
    "        #it Returns the neighbourhood nodes of the given node of the graph\n",
    "        else:\n",
    "            return None"
   ]
  },
  {
   "cell_type": "code",
   "execution_count": 2,
   "id": "e0d0beb2",
   "metadata": {},
   "outputs": [],
   "source": [
    "    def heuristic_values(n):\n",
    "        Heuristic_dict = {\n",
    "            # These are precaluculated heuristic values and as the maze is a grid structure i used the\n",
    "            # manhattan distance as Heuristic Function\n",
    "            'A' : 16 ,\n",
    "            'B' : 17,\n",
    "            'C' : 13,\n",
    "            'D' : 16,\n",
    "            'E' : 16,\n",
    "            'F' : 20,\n",
    "            'G' : 17 ,\n",
    "            'H' : 11,\n",
    "            'I' : 10,\n",
    "            'J' : 8,\n",
    "            'K' : 4 ,\n",
    "            'L' : 7,\n",
    "            'M' : 10,\n",
    "            'N' : 7,\n",
    "            'O' : 5 ,\n",
    "            'P' : 0,\n",
    "        }\n",
    "        return Heuristic_dict[n]   \n",
    "    # it returns heuristic value of the given node for calculating f(n)"
   ]
  },
  {
   "cell_type": "code",
   "execution_count": 3,
   "id": "627f4d84",
   "metadata": {},
   "outputs": [],
   "source": [
    "def A_Star_Algorithm(initial_node , goal_node):\n",
    "    \n",
    "    \n",
    "    \n",
    "    # Intital Parameters\n",
    "    # set consosting of the start node\n",
    "    # set with no elements (empty set)\n",
    "    # Total Cost from the start node to the current node\n",
    "    # To know and keep track of the parent nodes\n",
    "    # from start node to start node we will have cost as 0\n",
    "    # the root node of the root node is root itself\n",
    "    \n",
    "    \n",
    "    \n",
    "    open_set = set(initial_node) \n",
    "    closed_set = set() \n",
    "    g_n = {} \n",
    "    parents = {} \n",
    "    g_n[initial_node] = 0\n",
    "    parents[initial_node] = initial_node\n",
    "    \n",
    "    \n",
    "    \n",
    "  \n",
    "    # intialize n is none\n",
    "    # using the formulae f(n) = g(n) + heuristic(n) find the node that is having the lowest f(n) value\n",
    "    # make it as n\n",
    "    \n",
    "    while len(open_set) > 0:\n",
    "        n = None\n",
    "        for v in open_set:\n",
    "            if n == None or g_n[v] + heuristic_values(v) < g_n[n] + heuristic_values(n) :\n",
    "                n = v\n",
    "                \n",
    "                \n",
    "                \n",
    "                \n",
    "    # if n is end node then do nothing\n",
    "    \n",
    "        if n == goal_node or Graph_nodes[n] == None:\n",
    "            pass\n",
    "        \n",
    "        \n",
    "        \n",
    "        \n",
    "\n",
    "        # As given in the input with the nodes and the cost of the node to reach from the nearest node\n",
    "        # if the neighbouring node is not present in either of the lists it is added to open set\n",
    "        # we will make the parent node as parent and we will update g(n)\n",
    "        \n",
    "        else:\n",
    "            for (m , cost) in  get_neighbouring_nodes(n):\n",
    "                if m not in open_set and m not in closed_set:\n",
    "                    open_set.add(m)\n",
    "                    parents[m] = n\n",
    "                    g_n[m] = g_n[n] + cost\n",
    "                else :\n",
    "                    \n",
    "                    # if current nodes cost is greater than previous current value we will get it updated \n",
    "                    # if it is present in the closed_set we remove it from it and add it to the open_set\n",
    "                    \n",
    "                    if g_n[m] > g_n[n] + cost:\n",
    "                        g_n[m] = g_n[n] + cost\n",
    "                        parents[m] = n\n",
    "\n",
    "                        if m in closed_set:\n",
    "                            closed_set.remove(m)\n",
    "                            open_set.add(m)\n",
    "                            \n",
    "                            \n",
    "        # if n i.e current node is none there is no path for the graph\n",
    "                            \n",
    "        \n",
    "        if n == None:\n",
    "            print(\"Path Does Not Exists\")\n",
    "            return None\n",
    "        \n",
    "        # if the current node reached the stop node then it is time to get the path\n",
    "        # intialize the path to be an array to store the nodes\n",
    "        # the loop runs until it reaches the end node and it appends the parents to the path array\n",
    "        # as it has gone from down to top we need to reverse the array to get from start to end node\n",
    "\n",
    "        if n == goal_node:\n",
    "            path = []\n",
    "            while parents[n] != n:\n",
    "                path.append(n)\n",
    "                n = parents[n]\n",
    "            path.append(initial_node)\n",
    "            path.reverse()\n",
    "            print(\"Path Found : {}\".format(path))\n",
    "            cost_of_the_path = g_n[m]\n",
    "            return path \n",
    "        open_set.remove(n)\n",
    "        closed_set.add(n)\n",
    "    print(\"path Does Not exist\")\n",
    "    return None\n",
    "        "
   ]
  },
  {
   "cell_type": "code",
   "execution_count": 4,
   "id": "fb456a56",
   "metadata": {},
   "outputs": [
    {
     "name": "stdout",
     "output_type": "stream",
     "text": [
      "Path Found : ['A', 'C', 'H', 'I', 'J', 'P']\n"
     ]
    },
    {
     "data": {
      "text/plain": [
       "['A', 'C', 'H', 'I', 'J', 'P']"
      ]
     },
     "execution_count": 4,
     "metadata": {},
     "output_type": "execute_result"
    }
   ],
   "source": [
    "Graph_nodes = {\n",
    "            'A' : [('B' , 5) , ('C' , 5)], # neighbouring nodes of A\n",
    "            'B' : [('C' , 4) , ('D' , 3)], # neighbouring nodes of B\n",
    "            'C' : [('D' , 7) , ('H' , 8) , ('E' , 7)], # neighbouring nodes of C\n",
    "            'D' : [('M' , 14) , ('L' , 13) , ('K' , 16) , ('H' , 11 )], # neighbouring nodes of E\n",
    "            'E' : [('F' , 4) , ('H' , 5)],# neighbouring nodes of D\n",
    "            'F' : [('G' , 9)],\n",
    "            'G' : [('N' , 12)],\n",
    "            'H' : [('I' , 3)],\n",
    "            'I' : [('J' , 4)],\n",
    "            'J' : [('P' , 8) , ('N' , 3)],\n",
    "            'K' : [('P' , 4) , ('L' , 5) , ('N' , 7)],\n",
    "            'L' : [('M' , 9) , ('O' , 4)],\n",
    "            'M' : [('O' , 5)],\n",
    "            'N' : [('P' , 7)],\n",
    "}\n",
    "A_Star_Algorithm('A' , 'P')"
   ]
  },
  {
   "cell_type": "code",
   "execution_count": null,
   "id": "40275c68",
   "metadata": {},
   "outputs": [],
   "source": []
  }
 ],
 "metadata": {
  "kernelspec": {
   "display_name": "Python 3",
   "language": "python",
   "name": "python3"
  },
  "language_info": {
   "codemirror_mode": {
    "name": "ipython",
    "version": 3
   },
   "file_extension": ".py",
   "mimetype": "text/x-python",
   "name": "python",
   "nbconvert_exporter": "python",
   "pygments_lexer": "ipython3",
   "version": "3.9.5"
  }
 },
 "nbformat": 4,
 "nbformat_minor": 5
}
